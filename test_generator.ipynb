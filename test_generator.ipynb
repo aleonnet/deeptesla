{
 "cells": [
  {
   "cell_type": "code",
   "execution_count": 1,
   "metadata": {
    "collapsed": true
   },
   "outputs": [],
   "source": [
    "import matplotlib.pyplot as plt \n",
    "%matplotlib inline\n",
    "import numpy as np \n",
    "np.set_printoptions(precision=4)"
   ]
  },
  {
   "cell_type": "code",
   "execution_count": 2,
   "metadata": {
    "collapsed": true
   },
   "outputs": [],
   "source": [
    "import numpy as np \n",
    "import threading\n",
    "import os\n",
    "import glob \n",
    "from skimage.io import imread\n",
    "from random import shuffle\n",
    "import cv2\n",
    "\n",
    "\n",
    "class Generator:  \n",
    "    \n",
    "    def __init__(self, directory, batch_size, yuv=False, normalize=True, SVD=False, flip=False):\n",
    "        \n",
    "        self.directory = directory\n",
    "        self.batch_size = batch_size\n",
    "        self.img_dir = None\n",
    "        self.low_rank_imgs = None\n",
    "        self.lock = threading.Lock()\n",
    "        \n",
    "        #setup data\n",
    "        self.setup_data()          \n",
    "        self.setup_lowranks()\n",
    "        \n",
    "        #for frame shift of images in list img_dir\n",
    "        self.start = 0\n",
    "        self.end = self.batch_size \n",
    "        \n",
    "        #init output batch\n",
    "        self.X_batch = np.zeros((batch_size, 180, 320, 3))\n",
    "        self.y_batch = np.zeros((batch_size, 1))\n",
    "        \n",
    "        #augment \n",
    "        self.SVD = SVD\n",
    "        self.flip = flip \n",
    "        self.normalize = normalize\n",
    "        self.yuv = yuv\n",
    "\n",
    "    def setup_data(self):\n",
    "        '''get and verify images are in directory, labels are correct '''\n",
    "        \n",
    "        self.img_dir = glob.glob(self.directory + '/images/*')\n",
    "        shuffle(self.img_dir)\n",
    "        self.num_batches = int(np.ceil(len(self.img_dir)/ self.batch_size)) #number of batches \n",
    "\n",
    "        assert len(self.img_dir) > 0, 'no images found, check directory'\n",
    "\n",
    "    def setup_lowranks(self):\n",
    "        '''setup the preprocessed SVD lowrank images\n",
    "        build a dict of names : image tensors'''\n",
    "        \n",
    "        self.low_rank_imgs = {}\n",
    "#         img_list = glob.glob(self.directory + '/*low_rank.png')\n",
    "        img_list = glob.glob('low_rank/*.png')\n",
    "        \n",
    "        for im in img_list: \n",
    "            #same name formatting \n",
    "            name = im.replace(self.directory, '')\n",
    "            name = name.replace('\\\\', '')\n",
    "            name = name.split('_')[:2]\n",
    "            name = '{}_{}'.format(name[0], name[1])  \n",
    "            self.low_rank_imgs[name] = imread(im)\n",
    "    \n",
    "    def get_img_metadata(self, img_name):\n",
    "        '''get metadata from image name \n",
    "        returns a dict with keys: \n",
    "        \n",
    "        name : (str) video name\n",
    "        frame : (int) frame number \n",
    "        label : (float) steering angle\n",
    "        array : image tensor'''\n",
    "        \n",
    "        unique_name = img_name.split('epoch')[-1].split('_')\n",
    "        label = unique_name[-1].split('.')[-2]\n",
    "        vid_name = 'epoch' + unique_name[0] + '_' + unique_name[1]\n",
    "        \n",
    "        \n",
    "        d = {}\n",
    "        d['label'] = float(label)/10\n",
    "        d['frame'] = int(unique_name[-2])\n",
    "        d['name'] = vid_name\n",
    "        d['array'] = imread(img_name) #self.rgb2gray()\n",
    "        \n",
    "        return d\n",
    "    \n",
    "    def remove_background_SVD(self, img_data):\n",
    "        '''get low rank image from frame's parent video \n",
    "        subtract from image array, in place for dict. \n",
    "        Apply weighed average of frame and low-rank matrix\n",
    "        '''\n",
    "        low_rank = self.low_rank_imgs['low_rank/{}'.format(img_data['name'][:-6])]\n",
    "        diff = 255- cv2.absdiff(img_data['array'] , low_rank)\n",
    "        img_data['array']  = cv2.addWeighted(diff, 0.9, img_data['array'], 0.1, 1)\n",
    "\n",
    "        \n",
    "    def flip_img(self, img_data):\n",
    "        '''randomly flip the image and reverse the steering angle\n",
    "        50/50 odds'''\n",
    "        if np.random.randint(0, 2): \n",
    "            img_data['array'] = np.flip(img_data['array'], axis=1)\n",
    "            img_data['label'] *= -1 \n",
    "            \n",
    "    def normalize_img(self, img_data): \n",
    "        '''normalize the image tensor [-1, 1]'''\n",
    "        mini = np.min(img_data['array'])\n",
    "        maxi = np.max(img_data['array'])\n",
    "        img_data['array'] = img_data['array']/255\n",
    "        #img_data['array'] = 2*((img_data['array'] - mini) / (maxi-mini))-1\n",
    "        \n",
    "    def cvt_YUV(self, img_data):\n",
    "        '''cvt color space from RGB to YUV'''\n",
    "        img_data['array'] = cv2.cvtColor(img_data['array'], cv2.COLOR_BGR2YUV)\n",
    "    \n",
    "\n",
    "    def __next__(self): \n",
    "        '''Yields data tensor of size [batch_size, 180, 320, 1], \n",
    "        label tensor of size [batch_size, 1]. GPU compatible. '''\n",
    "\n",
    "        #lock and release threads at iteration execution \n",
    "        with self.lock:      \n",
    "            for i in range(self.num_batches):\n",
    "                img_batch_files = self.img_dir[self.start:self.end]\n",
    "\n",
    "                for j, img_name in enumerate(img_batch_files): \n",
    "                    img_data = self.get_img_metadata(img_name) #image data dict\n",
    "                     \n",
    "                    #augment image\n",
    "                    if self.SVD: \n",
    "                        self.remove_background_SVD(img_data)\n",
    "                    if self.flip:\n",
    "                        self.flip_img(img_data)\n",
    "                    if self.yuv: \n",
    "                        self.cvt_YUV(img_data)\n",
    "                    if self.normalize:\n",
    "                        self.normalize_img(img_data)\n",
    "                    \n",
    "                        \n",
    "                    self.X_batch[j, :, :, :] = img_data['array'].reshape(180,320,-1)\n",
    "                    self.y_batch[j] = img_data['label'] #get steering angle\n",
    "\n",
    "                #clip last batch \n",
    "                if i == self.num_batches - 1:\n",
    "                    self.X_batch = self.X_batch[:j, :, :, :]       \n",
    "\n",
    "                #increment images for next iteration \n",
    "                self.start += self.batch_size\n",
    "                self.end += self.batch_size\n",
    "                \n",
    "                return  self.X_batch, self.y_batch\n",
    "                \n",
    "    def __iter__(self):\n",
    "        return self"
   ]
  },
  {
   "cell_type": "markdown",
   "metadata": {},
   "source": [
    "Test is out "
   ]
  },
  {
   "cell_type": "code",
   "execution_count": 3,
   "metadata": {},
   "outputs": [],
   "source": [
    "# d = os.path.join('..', 'data', 'train')\n",
    "d = os.path.join('/input', 'train')\n",
    "\n",
    "gen = Generator(directory = d, \n",
    "                batch_size = 200,\n",
    "                yuv=True,\n",
    "                normalize = True,\n",
    "                SVD = True,\n",
    "                flip = False)"
   ]
  },
  {
   "cell_type": "code",
   "execution_count": 4,
   "metadata": {},
   "outputs": [
    {
     "data": {
      "text/plain": [
       "dict_keys(['low_rank/epoch09', 'low_rank/epoch08', 'low_rank/epoch05', 'low_rank/epoch02', 'low_rank/epoch06', 'low_rank/epoch04', 'low_rank/epoch01', 'low_rank/epoch03', 'low_rank/epoch10', 'low_rank/epoch07'])"
      ]
     },
     "execution_count": 4,
     "metadata": {},
     "output_type": "execute_result"
    }
   ],
   "source": [
    "gen.low_rank_imgs.keys()\n",
    "# os.listdir(os.path.join('..', 'data', 'train'))"
   ]
  },
  {
   "cell_type": "code",
   "execution_count": 5,
   "metadata": {
    "scrolled": false
   },
   "outputs": [
    {
     "name": "stdout",
     "output_type": "stream",
     "text": [
      "batch 0, size: (200, 180, 320, 3), x_mean: 0.6184966608796275, y_mean -0.53\n",
      "batch 1, size: (200, 180, 320, 3), x_mean: 0.6183533832607104, y_mean 0.05\n",
      "batch 2, size: (200, 180, 320, 3), x_mean: 0.6185019839324621, y_mean 0.065\n",
      "batch 3, size: (200, 180, 320, 3), x_mean: 0.6199234041394341, y_mean 0.28\n",
      "batch 4, size: (200, 180, 320, 3), x_mean: 0.6196807588961518, y_mean -0.41\n",
      "batch 5, size: (200, 180, 320, 3), x_mean: 0.6190797987018891, y_mean -0.0825\n"
     ]
    },
    {
     "ename": "KeyboardInterrupt",
     "evalue": "",
     "output_type": "error",
     "traceback": [
      "\u001b[0;31m---------------------------------------------------------------------------\u001b[0m",
      "\u001b[0;31mKeyboardInterrupt\u001b[0m                         Traceback (most recent call last)",
      "\u001b[0;32m<ipython-input-5-7b38fb2ebec6>\u001b[0m in \u001b[0;36m<module>\u001b[0;34m()\u001b[0m\n\u001b[1;32m      2\u001b[0m \u001b[0;32mtry\u001b[0m\u001b[0;34m:\u001b[0m\u001b[0;34m\u001b[0m\u001b[0m\n\u001b[1;32m      3\u001b[0m     \u001b[0;32mfor\u001b[0m \u001b[0mi\u001b[0m \u001b[0;32min\u001b[0m \u001b[0mrange\u001b[0m\u001b[0;34m(\u001b[0m\u001b[0;36m10\u001b[0m\u001b[0;34m)\u001b[0m\u001b[0;34m:\u001b[0m\u001b[0;34m\u001b[0m\u001b[0m\n\u001b[0;32m----> 4\u001b[0;31m         \u001b[0mx_batch\u001b[0m\u001b[0;34m,\u001b[0m \u001b[0my_batch\u001b[0m \u001b[0;34m=\u001b[0m \u001b[0mnext\u001b[0m\u001b[0;34m(\u001b[0m\u001b[0mgen\u001b[0m\u001b[0;34m)\u001b[0m\u001b[0;34m\u001b[0m\u001b[0m\n\u001b[0m\u001b[1;32m      5\u001b[0m         \u001b[0mprint\u001b[0m \u001b[0;34m(\u001b[0m\u001b[0;34m'batch {}, size: {}, x_mean: {}, y_mean {}'\u001b[0m               \u001b[0;34m.\u001b[0m\u001b[0mformat\u001b[0m\u001b[0;34m(\u001b[0m\u001b[0mi\u001b[0m\u001b[0;34m,\u001b[0m \u001b[0mx_batch\u001b[0m\u001b[0;34m.\u001b[0m\u001b[0mshape\u001b[0m\u001b[0;34m,\u001b[0m \u001b[0mnp\u001b[0m\u001b[0;34m.\u001b[0m\u001b[0mmean\u001b[0m\u001b[0;34m(\u001b[0m\u001b[0mx_batch\u001b[0m\u001b[0;34m)\u001b[0m\u001b[0;34m,\u001b[0m \u001b[0mnp\u001b[0m\u001b[0;34m.\u001b[0m\u001b[0mmean\u001b[0m\u001b[0;34m(\u001b[0m\u001b[0my_batch\u001b[0m\u001b[0;34m)\u001b[0m\u001b[0;34m)\u001b[0m\u001b[0;34m)\u001b[0m\u001b[0;34m\u001b[0m\u001b[0m\n\u001b[1;32m      6\u001b[0m \u001b[0;34m\u001b[0m\u001b[0m\n",
      "\u001b[0;32m<ipython-input-2-a7029b66544e>\u001b[0m in \u001b[0;36m__next__\u001b[0;34m(self)\u001b[0m\n\u001b[1;32m    122\u001b[0m \u001b[0;34m\u001b[0m\u001b[0m\n\u001b[1;32m    123\u001b[0m                 \u001b[0;32mfor\u001b[0m \u001b[0mj\u001b[0m\u001b[0;34m,\u001b[0m \u001b[0mimg_name\u001b[0m \u001b[0;32min\u001b[0m \u001b[0menumerate\u001b[0m\u001b[0;34m(\u001b[0m\u001b[0mimg_batch_files\u001b[0m\u001b[0;34m)\u001b[0m\u001b[0;34m:\u001b[0m\u001b[0;34m\u001b[0m\u001b[0m\n\u001b[0;32m--> 124\u001b[0;31m                     \u001b[0mimg_data\u001b[0m \u001b[0;34m=\u001b[0m \u001b[0mself\u001b[0m\u001b[0;34m.\u001b[0m\u001b[0mget_img_metadata\u001b[0m\u001b[0;34m(\u001b[0m\u001b[0mimg_name\u001b[0m\u001b[0;34m)\u001b[0m \u001b[0;31m#image data dict\u001b[0m\u001b[0;34m\u001b[0m\u001b[0m\n\u001b[0m\u001b[1;32m    125\u001b[0m \u001b[0;34m\u001b[0m\u001b[0m\n\u001b[1;32m    126\u001b[0m                     \u001b[0;31m#augment image\u001b[0m\u001b[0;34m\u001b[0m\u001b[0;34m\u001b[0m\u001b[0m\n",
      "\u001b[0;32m<ipython-input-2-a7029b66544e>\u001b[0m in \u001b[0;36mget_img_metadata\u001b[0;34m(self, img_name)\u001b[0m\n\u001b[1;32m     79\u001b[0m         \u001b[0md\u001b[0m\u001b[0;34m[\u001b[0m\u001b[0;34m'frame'\u001b[0m\u001b[0;34m]\u001b[0m \u001b[0;34m=\u001b[0m \u001b[0mint\u001b[0m\u001b[0;34m(\u001b[0m\u001b[0munique_name\u001b[0m\u001b[0;34m[\u001b[0m\u001b[0;34m-\u001b[0m\u001b[0;36m2\u001b[0m\u001b[0;34m]\u001b[0m\u001b[0;34m)\u001b[0m\u001b[0;34m\u001b[0m\u001b[0m\n\u001b[1;32m     80\u001b[0m         \u001b[0md\u001b[0m\u001b[0;34m[\u001b[0m\u001b[0;34m'name'\u001b[0m\u001b[0;34m]\u001b[0m \u001b[0;34m=\u001b[0m \u001b[0mvid_name\u001b[0m\u001b[0;34m\u001b[0m\u001b[0m\n\u001b[0;32m---> 81\u001b[0;31m         \u001b[0md\u001b[0m\u001b[0;34m[\u001b[0m\u001b[0;34m'array'\u001b[0m\u001b[0;34m]\u001b[0m \u001b[0;34m=\u001b[0m \u001b[0mimread\u001b[0m\u001b[0;34m(\u001b[0m\u001b[0mimg_name\u001b[0m\u001b[0;34m)\u001b[0m \u001b[0;31m#self.rgb2gray()\u001b[0m\u001b[0;34m\u001b[0m\u001b[0m\n\u001b[0m\u001b[1;32m     82\u001b[0m \u001b[0;34m\u001b[0m\u001b[0m\n\u001b[1;32m     83\u001b[0m         \u001b[0;32mreturn\u001b[0m \u001b[0md\u001b[0m\u001b[0;34m\u001b[0m\u001b[0m\n",
      "\u001b[0;32m/usr/local/lib/python3.5/site-packages/skimage/io/_io.py\u001b[0m in \u001b[0;36mimread\u001b[0;34m(fname, as_grey, plugin, flatten, **plugin_args)\u001b[0m\n\u001b[1;32m     59\u001b[0m \u001b[0;34m\u001b[0m\u001b[0m\n\u001b[1;32m     60\u001b[0m     \u001b[0;32mwith\u001b[0m \u001b[0mfile_or_url_context\u001b[0m\u001b[0;34m(\u001b[0m\u001b[0mfname\u001b[0m\u001b[0;34m)\u001b[0m \u001b[0;32mas\u001b[0m \u001b[0mfname\u001b[0m\u001b[0;34m:\u001b[0m\u001b[0;34m\u001b[0m\u001b[0m\n\u001b[0;32m---> 61\u001b[0;31m         \u001b[0mimg\u001b[0m \u001b[0;34m=\u001b[0m \u001b[0mcall_plugin\u001b[0m\u001b[0;34m(\u001b[0m\u001b[0;34m'imread'\u001b[0m\u001b[0;34m,\u001b[0m \u001b[0mfname\u001b[0m\u001b[0;34m,\u001b[0m \u001b[0mplugin\u001b[0m\u001b[0;34m=\u001b[0m\u001b[0mplugin\u001b[0m\u001b[0;34m,\u001b[0m \u001b[0;34m**\u001b[0m\u001b[0mplugin_args\u001b[0m\u001b[0;34m)\u001b[0m\u001b[0;34m\u001b[0m\u001b[0m\n\u001b[0m\u001b[1;32m     62\u001b[0m \u001b[0;34m\u001b[0m\u001b[0m\n\u001b[1;32m     63\u001b[0m     \u001b[0;32mif\u001b[0m \u001b[0;32mnot\u001b[0m \u001b[0mhasattr\u001b[0m\u001b[0;34m(\u001b[0m\u001b[0mimg\u001b[0m\u001b[0;34m,\u001b[0m \u001b[0;34m'ndim'\u001b[0m\u001b[0;34m)\u001b[0m\u001b[0;34m:\u001b[0m\u001b[0;34m\u001b[0m\u001b[0m\n",
      "\u001b[0;32m/usr/local/lib/python3.5/site-packages/skimage/io/manage_plugins.py\u001b[0m in \u001b[0;36mcall_plugin\u001b[0;34m(kind, *args, **kwargs)\u001b[0m\n\u001b[1;32m    209\u001b[0m                                (plugin, kind))\n\u001b[1;32m    210\u001b[0m \u001b[0;34m\u001b[0m\u001b[0m\n\u001b[0;32m--> 211\u001b[0;31m     \u001b[0;32mreturn\u001b[0m \u001b[0mfunc\u001b[0m\u001b[0;34m(\u001b[0m\u001b[0;34m*\u001b[0m\u001b[0margs\u001b[0m\u001b[0;34m,\u001b[0m \u001b[0;34m**\u001b[0m\u001b[0mkwargs\u001b[0m\u001b[0;34m)\u001b[0m\u001b[0;34m\u001b[0m\u001b[0m\n\u001b[0m\u001b[1;32m    212\u001b[0m \u001b[0;34m\u001b[0m\u001b[0m\n\u001b[1;32m    213\u001b[0m \u001b[0;34m\u001b[0m\u001b[0m\n",
      "\u001b[0;32m/usr/local/lib/python3.5/site-packages/skimage/io/_plugins/pil_plugin.py\u001b[0m in \u001b[0;36mimread\u001b[0;34m(fname, dtype, img_num, **kwargs)\u001b[0m\n\u001b[1;32m     35\u001b[0m         \u001b[0;32mwith\u001b[0m \u001b[0mopen\u001b[0m\u001b[0;34m(\u001b[0m\u001b[0mfname\u001b[0m\u001b[0;34m,\u001b[0m \u001b[0;34m'rb'\u001b[0m\u001b[0;34m)\u001b[0m \u001b[0;32mas\u001b[0m \u001b[0mf\u001b[0m\u001b[0;34m:\u001b[0m\u001b[0;34m\u001b[0m\u001b[0m\n\u001b[1;32m     36\u001b[0m             \u001b[0mim\u001b[0m \u001b[0;34m=\u001b[0m \u001b[0mImage\u001b[0m\u001b[0;34m.\u001b[0m\u001b[0mopen\u001b[0m\u001b[0;34m(\u001b[0m\u001b[0mf\u001b[0m\u001b[0;34m)\u001b[0m\u001b[0;34m\u001b[0m\u001b[0m\n\u001b[0;32m---> 37\u001b[0;31m             \u001b[0;32mreturn\u001b[0m \u001b[0mpil_to_ndarray\u001b[0m\u001b[0;34m(\u001b[0m\u001b[0mim\u001b[0m\u001b[0;34m,\u001b[0m \u001b[0mdtype\u001b[0m\u001b[0;34m=\u001b[0m\u001b[0mdtype\u001b[0m\u001b[0;34m,\u001b[0m \u001b[0mimg_num\u001b[0m\u001b[0;34m=\u001b[0m\u001b[0mimg_num\u001b[0m\u001b[0;34m)\u001b[0m\u001b[0;34m\u001b[0m\u001b[0m\n\u001b[0m\u001b[1;32m     38\u001b[0m     \u001b[0;32melse\u001b[0m\u001b[0;34m:\u001b[0m\u001b[0;34m\u001b[0m\u001b[0m\n\u001b[1;32m     39\u001b[0m         \u001b[0mim\u001b[0m \u001b[0;34m=\u001b[0m \u001b[0mImage\u001b[0m\u001b[0;34m.\u001b[0m\u001b[0mopen\u001b[0m\u001b[0;34m(\u001b[0m\u001b[0mfname\u001b[0m\u001b[0;34m)\u001b[0m\u001b[0;34m\u001b[0m\u001b[0m\n",
      "\u001b[0;32m/usr/local/lib/python3.5/site-packages/skimage/io/_plugins/pil_plugin.py\u001b[0m in \u001b[0;36mpil_to_ndarray\u001b[0;34m(im, dtype, img_num)\u001b[0m\n\u001b[1;32m     51\u001b[0m     \u001b[0;32mtry\u001b[0m\u001b[0;34m:\u001b[0m\u001b[0;34m\u001b[0m\u001b[0m\n\u001b[1;32m     52\u001b[0m         \u001b[0;31m# this will raise an IOError if the file is not readable\u001b[0m\u001b[0;34m\u001b[0m\u001b[0;34m\u001b[0m\u001b[0m\n\u001b[0;32m---> 53\u001b[0;31m         \u001b[0mim\u001b[0m\u001b[0;34m.\u001b[0m\u001b[0mgetdata\u001b[0m\u001b[0;34m(\u001b[0m\u001b[0;34m)\u001b[0m\u001b[0;34m[\u001b[0m\u001b[0;36m0\u001b[0m\u001b[0;34m]\u001b[0m\u001b[0;34m\u001b[0m\u001b[0m\n\u001b[0m\u001b[1;32m     54\u001b[0m     \u001b[0;32mexcept\u001b[0m \u001b[0mIOError\u001b[0m \u001b[0;32mas\u001b[0m \u001b[0me\u001b[0m\u001b[0;34m:\u001b[0m\u001b[0;34m\u001b[0m\u001b[0m\n\u001b[1;32m     55\u001b[0m         \u001b[0msite\u001b[0m \u001b[0;34m=\u001b[0m \u001b[0;34m\"http://pillow.readthedocs.org/en/latest/installation.html#external-libraries\"\u001b[0m\u001b[0;34m\u001b[0m\u001b[0m\n",
      "\u001b[0;32m/usr/local/lib/python3.5/site-packages/PIL/Image.py\u001b[0m in \u001b[0;36mgetdata\u001b[0;34m(self, band)\u001b[0m\n\u001b[1;32m   1185\u001b[0m         \"\"\"\n\u001b[1;32m   1186\u001b[0m \u001b[0;34m\u001b[0m\u001b[0m\n\u001b[0;32m-> 1187\u001b[0;31m         \u001b[0mself\u001b[0m\u001b[0;34m.\u001b[0m\u001b[0mload\u001b[0m\u001b[0;34m(\u001b[0m\u001b[0;34m)\u001b[0m\u001b[0;34m\u001b[0m\u001b[0m\n\u001b[0m\u001b[1;32m   1188\u001b[0m         \u001b[0;32mif\u001b[0m \u001b[0mband\u001b[0m \u001b[0;32mis\u001b[0m \u001b[0;32mnot\u001b[0m \u001b[0;32mNone\u001b[0m\u001b[0;34m:\u001b[0m\u001b[0;34m\u001b[0m\u001b[0m\n\u001b[1;32m   1189\u001b[0m             \u001b[0;32mreturn\u001b[0m \u001b[0mself\u001b[0m\u001b[0;34m.\u001b[0m\u001b[0mim\u001b[0m\u001b[0;34m.\u001b[0m\u001b[0mgetband\u001b[0m\u001b[0;34m(\u001b[0m\u001b[0mband\u001b[0m\u001b[0;34m)\u001b[0m\u001b[0;34m\u001b[0m\u001b[0m\n",
      "\u001b[0;32m/usr/local/lib/python3.5/site-packages/PIL/ImageFile.py\u001b[0m in \u001b[0;36mload\u001b[0;34m(self)\u001b[0m\n\u001b[1;32m    232\u001b[0m \u001b[0;34m\u001b[0m\u001b[0m\n\u001b[1;32m    233\u001b[0m                         \u001b[0mb\u001b[0m \u001b[0;34m=\u001b[0m \u001b[0mb\u001b[0m \u001b[0;34m+\u001b[0m \u001b[0ms\u001b[0m\u001b[0;34m\u001b[0m\u001b[0m\n\u001b[0;32m--> 234\u001b[0;31m                         \u001b[0mn\u001b[0m\u001b[0;34m,\u001b[0m \u001b[0merr_code\u001b[0m \u001b[0;34m=\u001b[0m \u001b[0mdecoder\u001b[0m\u001b[0;34m.\u001b[0m\u001b[0mdecode\u001b[0m\u001b[0;34m(\u001b[0m\u001b[0mb\u001b[0m\u001b[0;34m)\u001b[0m\u001b[0;34m\u001b[0m\u001b[0m\n\u001b[0m\u001b[1;32m    235\u001b[0m                         \u001b[0;32mif\u001b[0m \u001b[0mn\u001b[0m \u001b[0;34m<\u001b[0m \u001b[0;36m0\u001b[0m\u001b[0;34m:\u001b[0m\u001b[0;34m\u001b[0m\u001b[0m\n\u001b[1;32m    236\u001b[0m                             \u001b[0;32mbreak\u001b[0m\u001b[0;34m\u001b[0m\u001b[0m\n",
      "\u001b[0;31mKeyboardInterrupt\u001b[0m: "
     ]
    }
   ],
   "source": [
    "#print out the generator output until the StopIteration error\n",
    "try: \n",
    "    for i in range(10): \n",
    "        x_batch, y_batch = next(gen)\n",
    "        print ('batch {}, size: {}, x_mean: {}, y_mean {}'\\\n",
    "               .format(i, x_batch.shape, np.mean(x_batch), np.mean(y_batch)))\n",
    "       \n",
    "        #visualize results!  \n",
    "#         plt.figure(figsize=(20, 10))\n",
    "#         plt.title('SVD applied')\n",
    "#         for i in range(16):\n",
    "#             plt.subplot(4, 4, i+1)\n",
    "#             plt.imshow(x_batch[i, :, :, :].reshape(180, 320, -1), cmap='gray')\n",
    "#         plt.show()\n",
    "\n",
    "except StopIteration: \n",
    "    print ('reached end of image data')"
   ]
  },
  {
   "cell_type": "markdown",
   "metadata": {},
   "source": [
    "This looks good. I will save it to a .py file and use it for the model. "
   ]
  },
  {
   "cell_type": "code",
   "execution_count": null,
   "metadata": {},
   "outputs": [],
   "source": [
    "gen.low_rank_imgs['/epoch01_front']"
   ]
  },
  {
   "cell_type": "code",
   "execution_count": null,
   "metadata": {
    "collapsed": true
   },
   "outputs": [],
   "source": []
  }
 ],
 "metadata": {
  "kernelspec": {
   "display_name": "Python 3",
   "language": "python",
   "name": "python3"
  },
  "language_info": {
   "codemirror_mode": {
    "name": "ipython",
    "version": 3
   },
   "file_extension": ".py",
   "mimetype": "text/x-python",
   "name": "python",
   "nbconvert_exporter": "python",
   "pygments_lexer": "ipython3",
   "version": "3.5.3"
  }
 },
 "nbformat": 4,
 "nbformat_minor": 2
}
