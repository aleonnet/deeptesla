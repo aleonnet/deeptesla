{
 "cells": [
  {
   "cell_type": "code",
   "execution_count": 1,
   "metadata": {
    "collapsed": true
   },
   "outputs": [],
   "source": [
    "import matplotlib.pyplot as plt \n",
    "%matplotlib inline\n",
    "import numpy as np \n",
    "np.set_printoptions(precision=4)"
   ]
  },
  {
   "cell_type": "code",
   "execution_count": 2,
   "metadata": {
    "collapsed": true
   },
   "outputs": [],
   "source": [
    "import numpy as np \n",
    "import threading\n",
    "import os\n",
    "import glob \n",
    "from skimage.io import imread\n",
    "from random import shuffle\n",
    "import cv2\n",
    "\n",
    "\n",
    "class Generator:  \n",
    "    \n",
    "    def __init__(self, directory, batch_size, grayscale=False, normalize=True, SVD=False, flip=False):\n",
    "        \n",
    "        self.directory = directory\n",
    "        self.batch_size = batch_size\n",
    "        self.img_dir = None\n",
    "        self.low_rank_imgs = None\n",
    "        self.lock = threading.Lock()\n",
    "        \n",
    "        #setup data\n",
    "        self.setup_data()          \n",
    "        self.setup_lowranks()\n",
    "        \n",
    "        #for frame shift of images in list img_dir\n",
    "        self.start = 0\n",
    "        self.end = self.batch_size \n",
    "        \n",
    "        #init output batch\n",
    "        if grayscale:\n",
    "            self.X_batch = np.zeros((batch_size, 180, 320, 1))\n",
    "        else:  \n",
    "            self.X_batch = np.zeros((batch_size, 180, 320, 3))\n",
    "        self.y_batch = np.zeros((batch_size, 1))\n",
    "        \n",
    "        #augment \n",
    "        self.SVD = SVD\n",
    "        self.flip = flip \n",
    "        self.normalize = normalize\n",
    "        self.grayscale = grayscale\n",
    "\n",
    "    def setup_data(self):\n",
    "        '''get and verify images are in directory, labels are correct '''\n",
    "        \n",
    "        self.img_dir = glob.glob(self.directory + '/images/*')\n",
    "        shuffle(self.img_dir)\n",
    "        self.num_batches = int(np.ceil(len(self.img_dir)/ self.batch_size)) #number of batches \n",
    "\n",
    "        assert len(self.img_dir) > 0, 'no images found, check directory'\n",
    "\n",
    "    def setup_lowranks(self):\n",
    "        '''setup the preprocessed SVD lowrank images\n",
    "        build a dict of names : image tensors'''\n",
    "        \n",
    "        self.low_rank_imgs = {}\n",
    "        img_list = glob.glob(self.directory + '/*low_rank.png')\n",
    "        \n",
    "        for im in img_list: \n",
    "            #same name formatting \n",
    "            name = im.replace(self.directory, '')\n",
    "            name = name.replace('\\\\', '')\n",
    "            name = name.split('_')[:2]\n",
    "            name = '{}_{}'.format(name[0], name[1])  \n",
    "            self.low_rank_imgs[name] = imread(im)\n",
    "    \n",
    "    def get_img_metadata(self, img_name):\n",
    "        '''get metadata from image name \n",
    "        returns a dict with keys: \n",
    "        \n",
    "        name : (str) video name\n",
    "        frame : (int) frame number \n",
    "        label : (float) steering angle\n",
    "        array : image tensor'''\n",
    "        \n",
    "        unique_name = img_name.split('epoch')[-1].split('_')\n",
    "        label = unique_name[-1].split('.')[-2]\n",
    "        vid_name = 'epoch' + unique_name[0] + '_' + unique_name[1]\n",
    "        \n",
    "        \n",
    "        d = {}\n",
    "        d['label'] = float(label)/10\n",
    "        d['frame'] = int(unique_name[-2])\n",
    "        d['name'] = vid_name\n",
    "        d['array'] = imread(img_name) #self.rgb2gray()\n",
    "        \n",
    "        return d\n",
    "    \n",
    "    def remove_background_SVD(self, img_data):\n",
    "        '''get low rank image from frame's parent video \n",
    "        subtract from image array, in place for dict. \n",
    "        Apply weighed average of frame and low-rank matrix\n",
    "        '''\n",
    "        low_rank = self.low_rank_imgs[img_data['name']]\n",
    "        diff = 255- cv2.absdiff(img_data['array'] , low_rank)\n",
    "        img_data['array']  = cv2.addWeighted(diff, 0.9, img_data['array'], 0.1, 1)\n",
    "\n",
    "        \n",
    "    def flip_img(self, img_data):\n",
    "        '''randomly flip the image and reverse the steering angle\n",
    "        50/50 odds'''\n",
    "        if np.random.randint(0, 2): \n",
    "            img_data['array'] = np.flip(img_data['array'], axis=1)\n",
    "            img_data['label'] *= -1 \n",
    "            \n",
    "    def normalize_img(self, img_data): \n",
    "        '''normalize the image tensor [-1, 1]'''\n",
    "        mini = np.min(img_data['array'])\n",
    "        maxi = np.max(img_data['array'])\n",
    "        img_data['array'] = img_data['array']/255\n",
    "        #img_data['array'] = 2*((img_data['array'] - mini) / (maxi-mini))-1\n",
    "    \n",
    "    def rgb2gray(self, rgb):\n",
    "        '''cvt image from RGB to grayscale'''\n",
    "        return np.dot(rgb[:, :, :3], [0.299, 0.587, 0.114])\n",
    "\n",
    "    def __next__(self): \n",
    "        '''Yields data tensor of size [batch_size, 180, 320, 1], \n",
    "        label tensor of size [batch_size, 1]. GPU compatible. '''\n",
    "\n",
    "        #lock and release threads at iteration execution \n",
    "        with self.lock:      \n",
    "            for i in range(self.num_batches):\n",
    "                img_batch_files = self.img_dir[self.start:self.end]\n",
    "\n",
    "                for j, img_name in enumerate(img_batch_files): \n",
    "                    img_data = self.get_img_metadata(img_name) #image data dict\n",
    "                     \n",
    "                    #augment \n",
    "                    if self.SVD: \n",
    "                        self.remove_background_SVD(img_data)\n",
    "                    if self.flip:\n",
    "                        self.flip_img(img_data)\n",
    "                    if self.normalize:\n",
    "                        self.normalize_img(img_data)\n",
    "                    if self.grayscale:\n",
    "                        self.rgb2gray(img_data)\n",
    "                    \n",
    "                    self.X_batch[j, :, :, :] = img_data['array'].reshape(180,320,-1)\n",
    "                    self.y_batch[j] = img_data['label'] #get steering angle\n",
    "\n",
    "                #clip last batch \n",
    "                if i == self.num_batches - 1:\n",
    "                    self.X_batch = self.X_batch[:j, :, :, :]       \n",
    "\n",
    "                #increment images for next iteration \n",
    "                self.start += self.batch_size\n",
    "                self.end += self.batch_size\n",
    "                \n",
    "                return  self.X_batch, self.y_batch\n",
    "                \n",
    "    def __iter__(self):\n",
    "        return self"
   ]
  },
  {
   "cell_type": "markdown",
   "metadata": {},
   "source": [
    "Test is out "
   ]
  },
  {
   "cell_type": "code",
   "execution_count": 3,
   "metadata": {
    "collapsed": true
   },
   "outputs": [],
   "source": [
    "d = os.path.join('..', 'data', 'train')\n",
    "# d = os.path.join('/input', 'train')\n",
    "\n",
    "gen = Generator(directory = d, \n",
    "                batch_size = 200,\n",
    "                grayscale=False,\n",
    "                normalize = True,\n",
    "                SVD = True,\n",
    "                flip = False)"
   ]
  },
  {
   "cell_type": "code",
   "execution_count": 4,
   "metadata": {
    "collapsed": true
   },
   "outputs": [],
   "source": [
    "gen.img_dir;\n",
    "# os.listdir(os.path.join('..', 'data', 'train'))"
   ]
  },
  {
   "cell_type": "code",
   "execution_count": 5,
   "metadata": {
    "scrolled": false
   },
   "outputs": [
    {
     "name": "stdout",
     "output_type": "stream",
     "text": [
      "batch 0, size: (200, 180, 320, 3), x_mean: 0.8549380949301028, y_mean 0.1975\n",
      "batch 1, size: (200, 180, 320, 3), x_mean: 0.8530433072349318, y_mean -0.5425\n",
      "batch 2, size: (200, 180, 320, 3), x_mean: 0.851051974514342, y_mean 0.395\n",
      "batch 3, size: (200, 180, 320, 3), x_mean: 0.8553441099310101, y_mean -0.61\n",
      "batch 4, size: (200, 180, 320, 3), x_mean: 0.855285477146877, y_mean 0.2\n",
      "batch 5, size: (200, 180, 320, 3), x_mean: 0.8548185861474171, y_mean 0.085\n",
      "batch 6, size: (200, 180, 320, 3), x_mean: 0.8551497800925922, y_mean -0.135\n",
      "batch 7, size: (200, 180, 320, 3), x_mean: 0.8556509058415029, y_mean -0.2075\n",
      "batch 8, size: (200, 180, 320, 3), x_mean: 0.8558581161492363, y_mean -0.34\n",
      "batch 9, size: (200, 180, 320, 3), x_mean: 0.8550599362291225, y_mean -0.3825\n"
     ]
    }
   ],
   "source": [
    "#print out the generator output until the StopIteration error\n",
    "try: \n",
    "    for i in range(10): \n",
    "        x_batch, y_batch = next(gen)\n",
    "        print ('batch {}, size: {}, x_mean: {}, y_mean {}'\\\n",
    "               .format(i, x_batch.shape, np.mean(x_batch), np.mean(y_batch)))\n",
    "       \n",
    "        #visualize results!  \n",
    "#         plt.figure(figsize=(20, 10))\n",
    "#         plt.title('SVD applied')\n",
    "#         for i in range(16):\n",
    "#             plt.subplot(4, 4, i+1)\n",
    "#             plt.imshow(x_batch[i, :, :, :].reshape(180, 320, -1), cmap='gray')\n",
    "#         plt.show()\n",
    "\n",
    "except StopIteration: \n",
    "    print ('reached end of image data')"
   ]
  },
  {
   "cell_type": "markdown",
   "metadata": {},
   "source": [
    "This looks good. I will save it to a .py file and use it for the model. "
   ]
  }
 ],
 "metadata": {
  "kernelspec": {
   "display_name": "Python 3",
   "language": "python",
   "name": "python3"
  },
  "language_info": {
   "codemirror_mode": {
    "name": "ipython",
    "version": 3
   },
   "file_extension": ".py",
   "mimetype": "text/x-python",
   "name": "python",
   "nbconvert_exporter": "python",
   "pygments_lexer": "ipython3",
   "version": "3.6.3"
  }
 },
 "nbformat": 4,
 "nbformat_minor": 2
}
