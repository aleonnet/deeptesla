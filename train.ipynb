{
 "cells": [
  {
   "cell_type": "code",
   "execution_count": 1,
   "metadata": {},
   "outputs": [
    {
     "name": "stderr",
     "output_type": "stream",
     "text": [
      "Using TensorFlow backend.\n"
     ]
    }
   ],
   "source": [
    "import os \n",
    "from generator import Generator\n",
    "\n",
    "from keras.models import Sequential \n",
    "from keras.layers import Flatten, Dense, Dropout, Cropping2D, Lambda\n",
    "from keras.layers.convolutional import Convolution2D\n",
    "from keras.layers.pooling import MaxPooling2D\n",
    "from keras import losses, optimizers, metrics, backend, regularizers \n",
    "from keras.constraints import maxnorm\n",
    "from keras.callbacks import TensorBoard, ModelCheckpoint, EarlyStopping\n",
    "from keras.layers.normalization import BatchNormalization\n",
    "\n",
    "def resize(img):\n",
    "    from keras.backend import tf as ktf\n",
    "    return ktf.image.resize_images(img, [90, 160])"
   ]
  },
  {
   "cell_type": "code",
   "execution_count": 2,
   "metadata": {
    "collapsed": true
   },
   "outputs": [],
   "source": [
    "def build_model(drop_prob = 0.2, learn_rate=0.001, constraint=maxnorm(3), reg = None, verbose = False): \n",
    "    backend.clear_session()\n",
    "    model = Sequential()\n",
    "\n",
    "    ###--- Convolutional Neural Network --- ### \n",
    "    input_shape = (180, 320, 3)\n",
    "\n",
    "    model.add(Cropping2D(cropping=((60, 0), (0, 0)), input_shape=input_shape))\n",
    "    # model.add(Lambda(resize, input_shape=input_shape))\n",
    "    model.add(BatchNormalization(name='r0'))\n",
    "\n",
    "    ### conv. layers \n",
    "    model.add(Convolution2D(filters=24,\n",
    "                            kernel_size=(5, 5),\n",
    "                            strides = (2, 2),\n",
    "                            activation='relu',\n",
    "                            kernel_regularizer=reg, \n",
    "                            input_shape=input_shape, \n",
    "                            ))\n",
    "    '''READ THIS try adding max pool - before min loss was 7.04'''\n",
    "#     model.add(MaxPooling2D(pool_size=(2, 2)))\n",
    "    model.add(BatchNormalization(name='r1'))\n",
    "\n",
    "    model.add(Convolution2D(filters=36,\n",
    "                            kernel_size=(5, 5),\n",
    "                            strides = (2, 2),\n",
    "                            activation='relu',\n",
    "                            kernel_regularizer=reg, \n",
    "                            ))\n",
    "    model.add(BatchNormalization(name='r2'))\n",
    "\n",
    "    model.add(Convolution2D(filters=48,\n",
    "                            kernel_size=(5, 5),\n",
    "                            strides = (2, 2),\n",
    "                            activation='relu',\n",
    "                            kernel_regularizer=reg, \n",
    "                            ))\n",
    "    model.add(BatchNormalization(name='r3'))\n",
    "\n",
    "    model.add(Convolution2D(filters=64,\n",
    "                            kernel_size=(3, 3),\n",
    "                            strides = (1, 1),\n",
    "                            activation='relu',\n",
    "                            kernel_regularizer=reg, \n",
    "                            ))\n",
    "    model.add(BatchNormalization(name='r4'))\n",
    "\n",
    "    model.add(Convolution2D(filters=64,\n",
    "                            kernel_size=(1, 1),\n",
    "                            strides = (2, 2),\n",
    "                            activation='relu',\n",
    "                            kernel_regularizer=reg, \n",
    "                            ))\n",
    "    model.add(BatchNormalization(name='r5'))\n",
    "\n",
    "    ### fully connect layers \n",
    "    model.add(Flatten())\n",
    "    model.add(Dense(1164, activation='relu', kernel_constraint=constraint))\n",
    "    model.add(Dropout(drop_prob))\n",
    "\n",
    "    model.add(Dense(100, activation='relu', kernel_constraint=constraint))\n",
    "    model.add(Dropout(drop_prob))\n",
    "\n",
    "    model.add(Dense(50, activation='relu', kernel_constraint=constraint))\n",
    "    model.add(Dropout(drop_prob))\n",
    "\n",
    "    model.add(Dense(10, activation='relu', kernel_constraint=constraint))\n",
    "    model.add(Dropout(drop_prob))\n",
    "\n",
    "    model.add(Dense(1, activation='linear'))\n",
    "\n",
    "    if verbose: \n",
    "        # Summarize the model\n",
    "        model.summary()\n",
    "    \n",
    "    #compile \n",
    "    model.compile(loss='mse', optimizer=optimizers.Adam(lr=learn_rate))\n",
    "\n",
    "    return model "
   ]
  },
  {
   "cell_type": "markdown",
   "metadata": {},
   "source": [
    "### Callbacks "
   ]
  },
  {
   "cell_type": "code",
   "execution_count": 3,
   "metadata": {},
   "outputs": [
    {
     "name": "stdout",
     "output_type": "stream",
     "text": [
      "mkdir: cannot create directory ‘logs’: File exists\n",
      "mkdir: cannot create directory ‘checkpoints’: File exists\n"
     ]
    }
   ],
   "source": [
    "#tensorboard object \n",
    "!mkdir logs\n",
    "tensorboard = TensorBoard(log_dir='./logs', histogram_freq=0,\n",
    "                          write_graph=True, write_images=False)\n",
    "\n",
    "#save and overwrite models when improved \n",
    "filepath=\"checkpoints/baseline_best.h5\"\n",
    "\n",
    "!mkdir checkpoints\n",
    "checkpoint = ModelCheckpoint(filepath, monitor='val_loss', save_best_only=True)\n",
    "\n",
    "early_stop = EarlyStopping(monitor='val_loss', min_delta=0.01, patience=3, verbose=0, mode='auto')\n",
    "\n",
    "callbacks_list = [checkpoint, tensorboard]"
   ]
  },
  {
   "cell_type": "markdown",
   "metadata": {},
   "source": [
    "### Build Model "
   ]
  },
  {
   "cell_type": "code",
   "execution_count": 4,
   "metadata": {},
   "outputs": [
    {
     "name": "stdout",
     "output_type": "stream",
     "text": [
      "_________________________________________________________________\n",
      "Layer (type)                 Output Shape              Param #   \n",
      "=================================================================\n",
      "cropping2d_1 (Cropping2D)    (None, 120, 320, 3)       0         \n",
      "_________________________________________________________________\n",
      "r0 (BatchNormalization)      (None, 120, 320, 3)       12        \n",
      "_________________________________________________________________\n",
      "conv2d_1 (Conv2D)            (None, 58, 158, 24)       1824      \n",
      "_________________________________________________________________\n",
      "r1 (BatchNormalization)      (None, 58, 158, 24)       96        \n",
      "_________________________________________________________________\n",
      "conv2d_2 (Conv2D)            (None, 27, 77, 36)        21636     \n",
      "_________________________________________________________________\n",
      "r2 (BatchNormalization)      (None, 27, 77, 36)        144       \n",
      "_________________________________________________________________\n",
      "conv2d_3 (Conv2D)            (None, 12, 37, 48)        43248     \n",
      "_________________________________________________________________\n",
      "r3 (BatchNormalization)      (None, 12, 37, 48)        192       \n",
      "_________________________________________________________________\n",
      "conv2d_4 (Conv2D)            (None, 10, 35, 64)        27712     \n",
      "_________________________________________________________________\n",
      "r4 (BatchNormalization)      (None, 10, 35, 64)        256       \n",
      "_________________________________________________________________\n",
      "conv2d_5 (Conv2D)            (None, 5, 18, 64)         4160      \n",
      "_________________________________________________________________\n",
      "r5 (BatchNormalization)      (None, 5, 18, 64)         256       \n",
      "_________________________________________________________________\n",
      "flatten_1 (Flatten)          (None, 5760)              0         \n",
      "_________________________________________________________________\n",
      "dense_1 (Dense)              (None, 1164)              6705804   \n",
      "_________________________________________________________________\n",
      "dropout_1 (Dropout)          (None, 1164)              0         \n",
      "_________________________________________________________________\n",
      "dense_2 (Dense)              (None, 100)               116500    \n",
      "_________________________________________________________________\n",
      "dropout_2 (Dropout)          (None, 100)               0         \n",
      "_________________________________________________________________\n",
      "dense_3 (Dense)              (None, 50)                5050      \n",
      "_________________________________________________________________\n",
      "dropout_3 (Dropout)          (None, 50)                0         \n",
      "_________________________________________________________________\n",
      "dense_4 (Dense)              (None, 10)                510       \n",
      "_________________________________________________________________\n",
      "dropout_4 (Dropout)          (None, 10)                0         \n",
      "_________________________________________________________________\n",
      "dense_5 (Dense)              (None, 1)                 11        \n",
      "=================================================================\n",
      "Total params: 6,927,411\n",
      "Trainable params: 6,926,933\n",
      "Non-trainable params: 478\n",
      "_________________________________________________________________\n"
     ]
    }
   ],
   "source": [
    "BATCH_SIZE = 512\n",
    "EPOCHS = 20\n",
    "LEARN_RATE = 0.001\n",
    "DROP_PROB = 0.4\n",
    "\n",
    "control_model = build_model(drop_prob = DROP_PROB, learn_rate = LEARN_RATE, verbose=True)"
   ]
  },
  {
   "cell_type": "markdown",
   "metadata": {},
   "source": [
    "### Init Data"
   ]
  },
  {
   "cell_type": "code",
   "execution_count": 5,
   "metadata": {
    "collapsed": true
   },
   "outputs": [],
   "source": [
    "RUN = 'floyd' # (str) local or floyd \n",
    "\n",
    "#select data directories \n",
    "if RUN == 'local':  \n",
    "    train_dir = os.path.join('..', 'data', 'train')\n",
    "    val_dir = os.path.join('..', 'data', 'validation')\n",
    "elif RUN == 'floyd':\n",
    "    train_dir = os.path.join('/input', 'train')\n",
    "    val_dir = os.path.join('/input', 'validation')\n",
    "else: \n",
    "    print('not a valid directory')\n",
    "    \n",
    "#init data generators \n",
    "train_gen = Generator(train_dir, batch_size = BATCH_SIZE, normalize = True, SVD = False, flip=True, yuv=True)\n",
    "val_gen = Generator(val_dir, batch_size = BATCH_SIZE, normalize = True, SVD = False, flip=False, yuv=True)\n",
    "\n",
    "#optionally train on a subset of the data (check for 0 cost) \n",
    "train_gen.img_dir = train_gen.img_dir[:]\n",
    "val_gen.img_dir = val_gen.img_dir[:]"
   ]
  },
  {
   "cell_type": "markdown",
   "metadata": {},
   "source": [
    "### Fit Baseline/Control Model "
   ]
  },
  {
   "cell_type": "code",
   "execution_count": 6,
   "metadata": {},
   "outputs": [
    {
     "name": "stdout",
     "output_type": "stream",
     "text": [
      "Epoch 1/20\n",
      "36/36 [==============================] - 142s - loss: 21.9892 - val_loss: 11.4188\n",
      "Epoch 2/20\n",
      "36/36 [==============================] - 57s - loss: 12.2734 - val_loss: 9.9326\n",
      "Epoch 3/20\n",
      "36/36 [==============================] - 57s - loss: 9.0497 - val_loss: 9.6368\n",
      "Epoch 4/20\n",
      "36/36 [==============================] - 57s - loss: 7.3600 - val_loss: 9.6050\n",
      "Epoch 5/20\n",
      "36/36 [==============================] - 57s - loss: 6.8978 - val_loss: 9.1117\n",
      "Epoch 6/20\n",
      "36/36 [==============================] - 57s - loss: 6.4784 - val_loss: 9.2409\n",
      "Epoch 7/20\n",
      "36/36 [==============================] - 57s - loss: 6.2712 - val_loss: 8.8623\n",
      "Epoch 8/20\n",
      "36/36 [==============================] - 57s - loss: 6.2141 - val_loss: 9.0665\n",
      "Epoch 9/20\n",
      "36/36 [==============================] - 57s - loss: 5.8926 - val_loss: 8.6027\n",
      "Epoch 10/20\n",
      "36/36 [==============================] - 57s - loss: 5.7475 - val_loss: 8.0395\n",
      "Epoch 11/20\n",
      "36/36 [==============================] - 57s - loss: 5.6827 - val_loss: 7.5871\n",
      "Epoch 12/20\n",
      "36/36 [==============================] - 57s - loss: 5.5379 - val_loss: 7.5916\n",
      "Epoch 13/20\n",
      "36/36 [==============================] - 57s - loss: 5.2626 - val_loss: 7.7341\n",
      "Epoch 14/20\n",
      "36/36 [==============================] - 57s - loss: 5.2406 - val_loss: 7.6302\n",
      "Epoch 15/20\n",
      "36/36 [==============================] - 56s - loss: 5.1421 - val_loss: 7.6130\n",
      "Epoch 16/20\n",
      "36/36 [==============================] - 56s - loss: 5.0294 - val_loss: 7.9142\n",
      "Epoch 17/20\n",
      "36/36 [==============================] - 57s - loss: 4.8920 - val_loss: 7.0439\n",
      "Epoch 18/20\n",
      "36/36 [==============================] - 57s - loss: 5.0648 - val_loss: 6.9049\n",
      "Epoch 19/20\n",
      "36/36 [==============================] - 56s - loss: 5.0363 - val_loss: 7.4485\n",
      "Epoch 20/20\n",
      "36/36 [==============================] - 56s - loss: 4.8954 - val_loss: 7.1399\n"
     ]
    }
   ],
   "source": [
    "#fit \n",
    "control_hist = control_model.fit_generator(generator = train_gen,\n",
    "                           steps_per_epoch = len(train_gen.img_dir)//train_gen.batch_size,\n",
    "                           validation_data = val_gen,\n",
    "                           validation_steps = len(val_gen.img_dir)//val_gen.batch_size, \n",
    "                           epochs = EPOCHS,\n",
    "                           callbacks = callbacks_list,\n",
    "                           verbose = 1)\n",
    "\n",
    "#save final model\n",
    "control_model.save('baseline.h5')"
   ]
  },
  {
   "cell_type": "markdown",
   "metadata": {},
   "source": [
    "### Fit SVD Model\n",
    "\n",
    "Using exact same hyperparameters as Baseline Control Model."
   ]
  },
  {
   "cell_type": "code",
   "execution_count": 12,
   "metadata": {
    "scrolled": false
   },
   "outputs": [
    {
     "name": "stdout",
     "output_type": "stream",
     "text": [
      "Epoch 1/20\n",
      "36/36 [==============================] - 141s - loss: 18.3748 - val_loss: 11.1658\n",
      "Epoch 2/20\n",
      "36/36 [==============================] - 57s - loss: 10.7230 - val_loss: 10.0787\n",
      "Epoch 3/20\n",
      "36/36 [==============================] - 57s - loss: 8.5127 - val_loss: 9.9147\n",
      "Epoch 4/20\n",
      "36/36 [==============================] - 56s - loss: 7.5240 - val_loss: 9.0651\n",
      "Epoch 5/20\n",
      "36/36 [==============================] - 56s - loss: 6.9909 - val_loss: 9.0860\n",
      "Epoch 6/20\n",
      "36/36 [==============================] - 57s - loss: 6.5092 - val_loss: 9.1850\n",
      "Epoch 7/20\n",
      "36/36 [==============================] - 57s - loss: 6.1864 - val_loss: 10.0366\n",
      "Epoch 8/20\n",
      "36/36 [==============================] - 56s - loss: 6.0561 - val_loss: 20.3172\n",
      "Epoch 9/20\n",
      "36/36 [==============================] - 57s - loss: 5.7470 - val_loss: 24.9332\n",
      "Epoch 10/20\n",
      "36/36 [==============================] - 57s - loss: 5.4871 - val_loss: 24.9978\n",
      "Epoch 11/20\n",
      "36/36 [==============================] - 57s - loss: 5.6982 - val_loss: 27.1628\n",
      "Epoch 12/20\n",
      "36/36 [==============================] - 57s - loss: 5.4621 - val_loss: 34.1969\n",
      "Epoch 13/20\n",
      "36/36 [==============================] - 57s - loss: 5.5095 - val_loss: 29.8721\n",
      "Epoch 14/20\n",
      "36/36 [==============================] - 57s - loss: 5.4452 - val_loss: 27.4489\n",
      "Epoch 15/20\n",
      "36/36 [==============================] - 57s - loss: 5.1531 - val_loss: 37.3327\n",
      "Epoch 16/20\n",
      "36/36 [==============================] - 57s - loss: 5.2200 - val_loss: 25.3227\n",
      "Epoch 17/20\n",
      "36/36 [==============================] - 57s - loss: 4.9953 - val_loss: 22.2333\n",
      "Epoch 18/20\n",
      "36/36 [==============================] - 57s - loss: 5.0581 - val_loss: 33.0631\n",
      "Epoch 19/20\n",
      "36/36 [==============================] - 57s - loss: 5.0449 - val_loss: 70.1186\n",
      "Epoch 20/20\n",
      "36/36 [==============================] - 57s - loss: 4.7569 - val_loss: 43.6238\n"
     ]
    }
   ],
   "source": [
    "SVD_model = build_model(drop_prob = DROP_PROB, learn_rate = LEARN_RATE, verbose=0)\n",
    "\n",
    "#init data generators \n",
    "train_gen = Generator(train_dir, batch_size = BATCH_SIZE, normalize = True, SVD = True, flip=False, yuv=True)\n",
    "val_gen = Generator(val_dir, batch_size = BATCH_SIZE, normalize = True, SVD = False, flip=False, yuv=True)\n",
    "\n",
    "#fit \n",
    "SVD_hist = SVD_model.fit_generator(generator = train_gen,\n",
    "                           steps_per_epoch = len(train_gen.img_dir)//train_gen.batch_size,\n",
    "                           validation_data = val_gen,\n",
    "                           validation_steps = len(val_gen.img_dir)//val_gen.batch_size, \n",
    "                           epochs = EPOCHS,\n",
    "                           callbacks = callbacks_list,\n",
    "                           verbose = 1)\n",
    "\n",
    "#save final model\n",
    "SVD_model.save('baseline.h5')"
   ]
  },
  {
   "cell_type": "markdown",
   "metadata": {},
   "source": [
    "### Visualize the results! "
   ]
  },
  {
   "cell_type": "code",
   "execution_count": 16,
   "metadata": {},
   "outputs": [
    {
     "data": {
      "image/png": "[encoded data removed]",
      "text/plain": [
       "<matplotlib.figure.Figure at 0x7f3aa49eb0b8>"
      ]
     },
     "metadata": {},
     "output_type": "display_data"
    }
   ],
   "source": [
    "import matplotlib.pyplot as plt\n",
    "import numpy as np\n",
    "\n",
    "control_loss = control_hist.history['loss']\n",
    "control_val_loss = control_hist.history['val_loss']\n",
    "SVD_loss = SVD_hist.history['loss']\n",
    "SVD_val_loss = SVD_hist.history['val_loss']\n",
    "\n",
    "x = list(np.linspace(1, len(control_loss), len(control_loss)))\n",
    "\n",
    "plt.figure(figsize=(16, 4))\n",
    "\n",
    "plt.plot(x, control_loss, color = 'r', linestyle='-', label=' Control Training Loss') \n",
    "plt.plot(x, control_val_loss, color = 'r', linestyle='--', label='Control Validation loss')\n",
    "plt.plot(x, SVD_loss, color = 'b', linestyle='-', label='SVD Training Loss') \n",
    "plt.plot(x, SVD_val_loss, color = 'b', linestyle='--',  label='SVD Validation loss')\n",
    "\n",
    "plt.title('Loss History'); plt.xlabel('epochs'); plt.ylabel('loss'); \n",
    "plt.legend()\n",
    "plt.show()"
   ]
  },
  {
   "cell_type": "code",
   "execution_count": 9,
   "metadata": {
    "collapsed": true
   },
   "outputs": [],
   "source": [
    "# from skimage.io import imread\n",
    "# import glob \n",
    "# import numpy as np\n",
    "\n",
    "# def rgb2gray(rgb):\n",
    "#     '''cvt image from RGB to grayscale'''\n",
    "#     return np.dot(rgb[:, :, :3], [0.299, 0.587, 0.114]).reshape(1,180, 320, 1)\n",
    "\n",
    "# test_dir = glob.glob( os.path.join('/input', 'train', 'images') + '/*')\n",
    "# # for file in test_dir: \n",
    "# #     truth = float(file.split('/')[-1].split('_')[-1].split('.')[0])/10\n",
    "# # #     print (model.predict(rgb2gray(imread(file)))[0][0], truth)"
   ]
  }
 ],
 "metadata": {
  "kernelspec": {
   "display_name": "Python 3",
   "language": "python",
   "name": "python3"
  },
  "language_info": {
   "codemirror_mode": {
    "name": "ipython",
    "version": 3
   },
   "file_extension": ".py",
   "mimetype": "text/x-python",
   "name": "python",
   "nbconvert_exporter": "python",
   "pygments_lexer": "ipython3",
   "version": "3.5.3"
  }
 },
 "nbformat": 4,
 "nbformat_minor": 2
}
