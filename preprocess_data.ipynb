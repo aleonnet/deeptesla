{
 "cells": [
  {
   "cell_type": "code",
   "execution_count": 1,
   "metadata": {
    "collapsed": true
   },
   "outputs": [],
   "source": [
    "import moviepy.editor as moviepy \n",
    "import glob \n",
    "import os \n",
    "import pandas as pd \n",
    "import numpy as np\n",
    "import scipy "
   ]
  },
  {
   "cell_type": "code",
   "execution_count": 2,
   "metadata": {
    "collapsed": true
   },
   "outputs": [],
   "source": [
    "train_dir = os.path.join('..', 'data', 'train')\n",
    "val_dir = os.path.join('..', 'data', 'validation')\n",
    "\n",
    "train_vids = glob.glob(train_dir+'\\*mkv')\n",
    "val_vids = glob.glob(val_dir+'\\*mkv')\n",
    "\n",
    "train_labels = glob.glob(train_dir+'\\*csv')\n",
    "val_labels = glob.glob(val_dir+'\\*csv')"
   ]
  },
  {
   "cell_type": "markdown",
   "metadata": {},
   "source": [
    "Here I save all the video frames to .PNGs for easier mainipulation and compatibility with Keras. I use the image name as an ID to correspond to the video name, frame number, and steering value (all for identification during training). "
   ]
  },
  {
   "cell_type": "code",
   "execution_count": 4,
   "metadata": {
    "collapsed": true
   },
   "outputs": [],
   "source": [
    "def frame2png(vid_fies, label_files, setting):\n",
    "    ''' convert video frames to PNGs and save in data folder '''\n",
    "    \n",
    "    print ('{} data --processing... '.format(setting))\n",
    "    for j in range(len(vid_fies)):\n",
    "        #for debugging \n",
    "        file_name = vid_fies[j].split('.')[0].split('\\\\')[-1]\n",
    "\n",
    "        #grab the data\n",
    "        video = moviepy.VideoFileClip(vid_fies[j])\n",
    "        labels = pd.read_csv(label_files[j])\n",
    "\n",
    "        #how many frames \n",
    "        fps, duration = video.fps, video.duration\n",
    "\n",
    "        for i in range(int(duration*fps)): \n",
    "            try: \n",
    "                num = int(labels.iloc[i]['frame'])\n",
    "                wheel = int(labels.iloc[i]['wheel']*10)\n",
    "\n",
    "                time = i/fps\n",
    "                frame = video.get_frame(time)\n",
    "                resize = scipy.misc.imresize(frame, 25)\n",
    "\n",
    "                unique_name = '{}_{}_{}{}'.format(str(file_name), str(num), str(wheel), '.png')\n",
    "\n",
    "                savename = os.path.join('data', setting, 'images', unique_name)\n",
    "                scipy.misc.imsave(savename, resize)\n",
    "\n",
    "            except IndexError:\n",
    "                print ('video {} frame {} value does not exist'.format(file_name, i))\n"
   ]
  },
  {
   "cell_type": "code",
   "execution_count": 4,
   "metadata": {},
   "outputs": [
    {
     "name": "stdout",
     "output_type": "stream",
     "text": [
      "train data --processing... \n",
      "video epoch01_front frame 1500 value does not exist\n",
      "video epoch01_front frame 1501 value does not exist\n",
      "video epoch02_front frame 3900 value does not exist\n",
      "video epoch02_front frame 3901 value does not exist\n",
      "video epoch03_front frame 2700 value does not exist\n",
      "video epoch03_front frame 2701 value does not exist\n",
      "video epoch04_front frame 2700 value does not exist\n",
      "video epoch04_front frame 2701 value does not exist\n",
      "video epoch05_front frame 2700 value does not exist\n",
      "video epoch05_front frame 2701 value does not exist\n",
      "video epoch06_front frame 2700 value does not exist\n",
      "video epoch06_front frame 2701 value does not exist\n",
      "video epoch07_front frame 2700 value does not exist\n",
      "video epoch07_front frame 2701 value does not exist\n",
      "validation data --processing... \n",
      "video epoch08_front frame 2700 value does not exist\n",
      "video epoch08_front frame 2701 value does not exist\n",
      "video epoch09_front frame 2700 value does not exist\n",
      "video epoch09_front frame 2701 value does not exist\n",
      "video epoch10_front frame 2700 value does not exist\n",
      "video epoch10_front frame 2701 value does not exist\n"
     ]
    }
   ],
   "source": [
    "frame2png(train_vids, train_labels, 'train')\n",
    "frame2png(val_vids, val_labels, 'validation')"
   ]
  },
  {
   "cell_type": "markdown",
   "metadata": {},
   "source": [
    "Stack all the CSVs (labels) into one, just in case we need that later for checking our results."
   ]
  },
  {
   "cell_type": "code",
   "execution_count": 5,
   "metadata": {
    "collapsed": true
   },
   "outputs": [],
   "source": [
    "def stack_csvs(labels_file, setting):\n",
    "    '''concatenate labels into single CSV, format for image IDs'''\n",
    "    print ('{} data --processing... '.format(setting))\n",
    "    \n",
    "    def f(row):\n",
    "\n",
    "        frame = str(int(row['frame']))\n",
    "        name = row['new_index'].split('.')[0].split('\\\\')[-1]\n",
    "        return '{}_{}'.format(name, frame)\n",
    "\n",
    "    dfs = []\n",
    "    for csv in labels_file: \n",
    "        labels = pd.read_csv(csv)\n",
    "        labels['new_index'] = csv\n",
    "        labels['new_index'] = labels.apply(f, axis=1)\n",
    "        dfs.append(labels)\n",
    "    \n",
    "    savename = os.path.join('data', setting, 'labels.csv')\n",
    "    new_df = pd.concat(dfs).reset_index(drop=True)\n",
    "    new_df = new_df.set_index('new_index')\n",
    "\n",
    "    new_df.to_csv(savename)"
   ]
  },
  {
   "cell_type": "code",
   "execution_count": 6,
   "metadata": {},
   "outputs": [
    {
     "name": "stdout",
     "output_type": "stream",
     "text": [
      "train data --processing... \n",
      "validation data --processing... \n"
     ]
    }
   ],
   "source": [
    "stack_csvs(train_labels, 'train')\n",
    "stack_csvs(val_labels, 'validation')"
   ]
  },
  {
   "cell_type": "code",
   "execution_count": 3,
   "metadata": {},
   "outputs": [
    {
     "data": {
      "image/png": "[encoded data removed]",
      "text/plain": [
       "<matplotlib.figure.Figure at 0x252623a6eb8>"
      ]
     },
     "metadata": {},
     "output_type": "display_data"
    },
    {
     "data": {
      "text/plain": [
       "count    18900.000000\n",
       "mean         0.498435\n",
       "std          0.120949\n",
       "min          0.050000\n",
       "25%          0.437500\n",
       "50%          0.512500\n",
       "75%          0.550000\n",
       "max          0.875000\n",
       "Name: wheel, dtype: float64"
      ]
     },
     "execution_count": 3,
     "metadata": {},
     "output_type": "execute_result"
    }
   ],
   "source": [
    "import matplotlib.pyplot as plt\n",
    "\n",
    "all_angles = pd.read_csv(train_labels[-1])['wheel']\n",
    "all_angles * -1\n",
    "plt.figure(figsize=(10, 5))\n",
    "plt.title('Steering Angle Hisogram'); plt.xlabel('steering angles'); plt.ylabel('count')\n",
    "plt.hist(all_angles, bins=50); plt.show()\n",
    "\n",
    "all_angles = (all_angles + 20) / (20+20)\n",
    "all_angles.describe()"
   ]
  },
  {
   "cell_type": "code",
   "execution_count": null,
   "metadata": {
    "collapsed": true
   },
   "outputs": [],
   "source": []
  },
  {
   "cell_type": "code",
   "execution_count": null,
   "metadata": {
    "collapsed": true
   },
   "outputs": [],
   "source": []
  }
 ],
 "metadata": {
  "kernelspec": {
   "display_name": "Python 3",
   "language": "python",
   "name": "python3"
  },
  "language_info": {
   "codemirror_mode": {
    "name": "ipython",
    "version": 3
   },
   "file_extension": ".py",
   "mimetype": "text/x-python",
   "name": "python",
   "nbconvert_exporter": "python",
   "pygments_lexer": "ipython3",
   "version": "3.6.3"
  }
 },
 "nbformat": 4,
 "nbformat_minor": 2
}
